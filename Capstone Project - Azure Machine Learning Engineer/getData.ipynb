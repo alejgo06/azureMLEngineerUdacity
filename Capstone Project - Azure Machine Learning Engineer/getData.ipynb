{
 "cells": [
  {
   "cell_type": "markdown",
   "metadata": {},
   "source": [
    "# Import required libraries"
   ]
  },
  {
   "cell_type": "code",
   "execution_count": null,
   "metadata": {},
   "outputs": [],
   "source": [
    "import pandas as pd\n",
    "from tqdm import tqdm\n",
    "import datetime\n",
    "\n",
    "\n",
    "#https://www.kaggle.com/thegurusteam/spanish-high-speed-rail-system-ticket-pricing"
   ]
  },
  {
   "cell_type": "code",
   "execution_count": null,
   "metadata": {},
   "outputs": [],
   "source": [
    "tqdm.pandas()"
   ]
  },
  {
   "cell_type": "markdown",
   "metadata": {},
   "source": [
    "# Read dataframe"
   ]
  },
  {
   "cell_type": "code",
   "execution_count": null,
   "metadata": {},
   "outputs": [],
   "source": [
    "df=pd.read_csv('thegurus-opendata-renfe-trips.csv')"
   ]
  },
  {
   "cell_type": "code",
   "execution_count": null,
   "metadata": {},
   "outputs": [],
   "source": [
    "df.shape"
   ]
  },
  {
   "cell_type": "markdown",
   "metadata": {},
   "source": [
    "filter rows without price"
   ]
  },
  {
   "cell_type": "code",
   "execution_count": null,
   "metadata": {},
   "outputs": [],
   "source": [
    "df = df[df['price'].notna()]"
   ]
  },
  {
   "cell_type": "code",
   "execution_count": null,
   "metadata": {},
   "outputs": [],
   "source": [
    "df.shape"
   ]
  },
  {
   "cell_type": "markdown",
   "metadata": {},
   "source": [
    "sample data, if order to reduce the amount of data"
   ]
  },
  {
   "cell_type": "code",
   "execution_count": null,
   "metadata": {},
   "outputs": [],
   "source": [
    "df=df.sample(n=500000, replace=False, random_state=1)"
   ]
  },
  {
   "cell_type": "code",
   "execution_count": null,
   "metadata": {},
   "outputs": [],
   "source": [
    "df.shape"
   ]
  },
  {
   "cell_type": "code",
   "execution_count": null,
   "metadata": {},
   "outputs": [],
   "source": [
    "df.head()"
   ]
  },
  {
   "cell_type": "markdown",
   "metadata": {},
   "source": [
    "# Feature engineering"
   ]
  },
  {
   "cell_type": "markdown",
   "metadata": {},
   "source": [
    "Extrac: dat, day of the week, month, hour from departure time"
   ]
  },
  {
   "cell_type": "code",
   "execution_count": null,
   "metadata": {},
   "outputs": [],
   "source": [
    "def processDate(x):\n",
    "    x['departureDate']=datetime.datetime.strptime(x[\"departure\"], '%Y-%m-%d %H:%M:%S')\n",
    "    x['departureDay']=x[\"departureDate\"].day\n",
    "    x['departureMonth']=x[\"departureDate\"].month\n",
    "    x['departureHour']=x[\"departureDate\"].hour\n",
    "    x['departureWeekday']=x[\"departureDate\"].weekday()\n",
    "    return x\n",
    "\n",
    "df=df.progress_apply(processDate, axis=1)\n",
    "\n",
    "#df['departureDate']=df.progress_apply(lambda x: datetime.datetime.strptime(x[\"departure\"], '%Y-%m-%d %H:%M:%S'),axis=1)\n",
    "#df['departureDay']=df.progress_apply(lambda x: x[\"departureDate\"].day,axis=1)\n",
    "#df['departureMonth']=df.progress_apply(lambda x: x[\"departureDate\"].month,axis=1)\n",
    "#df['departureHour']=df.progress_apply(lambda x: x[\"departureDate\"].hour,axis=1)\n",
    "#df['departureWeekday']=df.progress_apply(lambda x: x[\"departureDate\"].weekday(),axis=1)"
   ]
  },
  {
   "cell_type": "code",
   "execution_count": null,
   "metadata": {},
   "outputs": [],
   "source": [
    "df.shape"
   ]
  },
  {
   "cell_type": "markdown",
   "metadata": {},
   "source": [
    "recode departure time"
   ]
  },
  {
   "cell_type": "code",
   "execution_count": null,
   "metadata": {},
   "outputs": [],
   "source": [
    "df['departureTime']=\"\"\n",
    "df.loc[(df['departureHour']<6),'departureTime' ] = \"earlyMorning\"\n",
    "df.loc[((df['departureHour']>=6)&(df['departureHour']<9)),'departureTime' ] = \"morning\"\n",
    "df.loc[((df['departureHour']>=9)&(df['departureHour']<12)),'departureTime' ] = \"midmorning\"\n",
    "df.loc[((df['departureHour']>=12)&(df['departureHour']<16)),'departureTime' ] = \"midday\"\n",
    "df.loc[((df['departureHour']>=16)&(df['departureHour']<18)),'departureTime' ] = \"afternoon\"\n",
    "df.loc[((df['departureHour']>=18)&(df['departureHour']<21)),'departureTime' ] = \"lateNight\"\n",
    "df.loc[(df['departureHour']>=21),'departureTime' ] = \"night\"\n"
   ]
  },
  {
   "cell_type": "markdown",
   "metadata": {},
   "source": [
    "# Vars "
   ]
  },
  {
   "cell_type": "code",
   "execution_count": null,
   "metadata": {},
   "outputs": [],
   "source": [
    "categoricalVar=['origin', 'destination','vehicle_type','vehicle_class', 'fare','departureWeekday', 'departureTime']\n",
    "target='price'\n",
    "continueVar=['duration','departureDay','departureMonth']\n"
   ]
  },
  {
   "cell_type": "markdown",
   "metadata": {},
   "source": [
    "# Filter unknown obs"
   ]
  },
  {
   "cell_type": "code",
   "execution_count": null,
   "metadata": {},
   "outputs": [],
   "source": [
    "df['vehicle_class']=df['vehicle_class'].fillna(\"unknow\", inplace=True)\n",
    "df['fare']=df['fare'].fillna(\"unknow\", inplace=True)"
   ]
  },
  {
   "cell_type": "markdown",
   "metadata": {},
   "source": [
    "# Create dummys variables"
   ]
  },
  {
   "cell_type": "code",
   "execution_count": null,
   "metadata": {},
   "outputs": [],
   "source": [
    "X=df[continueVar]\n",
    "y=df[target]\n",
    "print(X.shape)\n",
    "for i in categoricalVar:\n",
    "    X=pd.concat([X, pd.get_dummies(pd.Series(df[i]), drop_first=True)], axis=1)\n",
    "print(X.shape)\n",
    "print(y.shape)\n"
   ]
  },
  {
   "cell_type": "markdown",
   "metadata": {},
   "source": [
    "# Save clean data"
   ]
  },
  {
   "cell_type": "code",
   "execution_count": null,
   "metadata": {},
   "outputs": [],
   "source": [
    "data=X.copy()\n",
    "data['y']=y\n",
    "\n",
    "data.to_csv('data.csv',sep=\";\",index=False)"
   ]
  },
  {
   "cell_type": "markdown",
   "metadata": {},
   "source": [
    "# Model"
   ]
  },
  {
   "cell_type": "markdown",
   "metadata": {},
   "source": [
    "## Split data"
   ]
  },
  {
   "cell_type": "code",
   "execution_count": null,
   "metadata": {},
   "outputs": [],
   "source": [
    "from sklearn.model_selection import train_test_split\n",
    "X_train, X_valid, y_train, y_valid = train_test_split(X, y, test_size=0.33, random_state=42)"
   ]
  },
  {
   "cell_type": "markdown",
   "metadata": {},
   "source": [
    "## Train"
   ]
  },
  {
   "cell_type": "code",
   "execution_count": null,
   "metadata": {},
   "outputs": [],
   "source": [
    "from sklearn.ensemble import RandomForestRegressor\n",
    "clf = RandomForestRegressor(max_depth=200, random_state=11)\n",
    "clf.fit(X_train, y_train)"
   ]
  },
  {
   "cell_type": "markdown",
   "metadata": {},
   "source": [
    "## Predict"
   ]
  },
  {
   "cell_type": "code",
   "execution_count": null,
   "metadata": {},
   "outputs": [],
   "source": [
    "yhat_train=clf.predict(X_train)\n",
    "yhat_valid=clf.predict(X_valid)"
   ]
  },
  {
   "cell_type": "code",
   "execution_count": null,
   "metadata": {},
   "outputs": [],
   "source": [
    "from sklearn.metrics import mean_absolute_error\n",
    "from sklearn.metrics import mean_squared_error\n",
    "from sklearn.metrics import mean_squared_error\n",
    "from math import sqrt\n",
    "from sklearn.metrics import explained_variance_score"
   ]
  },
  {
   "cell_type": "markdown",
   "metadata": {},
   "source": [
    "## Evaluate"
   ]
  },
  {
   "cell_type": "code",
   "execution_count": null,
   "metadata": {},
   "outputs": [],
   "source": [
    "print(f\"MAE train: {mean_absolute_error(y_train, yhat_train)}\")\n",
    "print(f\"MAE valid: {mean_absolute_error(y_valid, yhat_valid)}\")\n",
    "print(f\"MSE train: {mean_squared_error(y_train, yhat_train)}\")\n",
    "print(f\"MSE valid: {mean_squared_error(y_valid, yhat_valid)}\")\n",
    "print(f\"RMSE train: {sqrt(mean_squared_error(y_train, yhat_train))}\")\n",
    "print(f\"RMSE valid: {sqrt(mean_squared_error(y_valid, yhat_valid))}\")\n",
    "print(f\"explained_variance train: {explained_variance_score(y_train, yhat_train, multioutput='uniform_average')}\")\n",
    "print(f\"explained_variance valid: {explained_variance_score(y_valid, yhat_valid, multioutput='uniform_average')}\")\n",
    "\n",
    "\n"
   ]
  },
  {
   "cell_type": "code",
   "execution_count": null,
   "metadata": {},
   "outputs": [],
   "source": []
  },
  {
   "cell_type": "code",
   "execution_count": null,
   "metadata": {},
   "outputs": [],
   "source": []
  },
  {
   "cell_type": "code",
   "execution_count": null,
   "metadata": {},
   "outputs": [],
   "source": []
  },
  {
   "cell_type": "code",
   "execution_count": null,
   "metadata": {},
   "outputs": [],
   "source": []
  }
 ],
 "metadata": {
  "kernelspec": {
   "display_name": "Python 3",
   "language": "python",
   "name": "python3"
  },
  "language_info": {
   "codemirror_mode": {
    "name": "ipython",
    "version": 3
   },
   "file_extension": ".py",
   "mimetype": "text/x-python",
   "name": "python",
   "nbconvert_exporter": "python",
   "pygments_lexer": "ipython3",
   "version": "3.7.7"
  }
 },
 "nbformat": 4,
 "nbformat_minor": 4
}
