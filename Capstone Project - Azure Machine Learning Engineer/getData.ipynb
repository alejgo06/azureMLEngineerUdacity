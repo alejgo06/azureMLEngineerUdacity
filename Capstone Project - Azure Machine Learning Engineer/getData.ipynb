{
 "cells": [
  {
   "cell_type": "markdown",
   "metadata": {},
   "source": [
    "# Import required libraries"
   ]
  },
  {
   "cell_type": "code",
   "execution_count": 1,
   "metadata": {},
   "outputs": [],
   "source": [
    "import pandas as pd\n",
    "from tqdm import tqdm\n",
    "import datetime\n",
    "\n",
    "\n",
    "#https://www.kaggle.com/thegurusteam/spanish-high-speed-rail-system-ticket-pricing"
   ]
  },
  {
   "cell_type": "code",
   "execution_count": 2,
   "metadata": {},
   "outputs": [],
   "source": [
    "tqdm.pandas()"
   ]
  },
  {
   "cell_type": "markdown",
   "metadata": {},
   "source": [
    "# Read dataframe"
   ]
  },
  {
   "cell_type": "code",
   "execution_count": 3,
   "metadata": {},
   "outputs": [],
   "source": [
    "df=pd.read_csv('thegurus-opendata-renfe-trips.csv')"
   ]
  },
  {
   "cell_type": "code",
   "execution_count": 4,
   "metadata": {},
   "outputs": [
    {
     "data": {
      "text/plain": [
       "(38753060, 14)"
      ]
     },
     "execution_count": 4,
     "metadata": {},
     "output_type": "execute_result"
    }
   ],
   "source": [
    "df.shape"
   ]
  },
  {
   "cell_type": "markdown",
   "metadata": {},
   "source": [
    "filter rows without price"
   ]
  },
  {
   "cell_type": "code",
   "execution_count": 5,
   "metadata": {},
   "outputs": [],
   "source": [
    "df = df[df['price'].notna()]"
   ]
  },
  {
   "cell_type": "code",
   "execution_count": 6,
   "metadata": {},
   "outputs": [
    {
     "data": {
      "text/plain": [
       "(29593111, 14)"
      ]
     },
     "execution_count": 6,
     "metadata": {},
     "output_type": "execute_result"
    }
   ],
   "source": [
    "df.shape"
   ]
  },
  {
   "cell_type": "markdown",
   "metadata": {},
   "source": [
    "sample data, if order to reduce the amount of data"
   ]
  },
  {
   "cell_type": "code",
   "execution_count": 17,
   "metadata": {},
   "outputs": [],
   "source": [
    "df=df.sample(n=5000, replace=False, random_state=1)"
   ]
  },
  {
   "cell_type": "code",
   "execution_count": 18,
   "metadata": {},
   "outputs": [
    {
     "data": {
      "text/plain": [
       "(5000, 20)"
      ]
     },
     "execution_count": 18,
     "metadata": {},
     "output_type": "execute_result"
    }
   ],
   "source": [
    "df.shape"
   ]
  },
  {
   "cell_type": "code",
   "execution_count": 19,
   "metadata": {},
   "outputs": [
    {
     "data": {
      "text/html": [
       "<div>\n",
       "<style scoped>\n",
       "    .dataframe tbody tr th:only-of-type {\n",
       "        vertical-align: middle;\n",
       "    }\n",
       "\n",
       "    .dataframe tbody tr th {\n",
       "        vertical-align: top;\n",
       "    }\n",
       "\n",
       "    .dataframe thead th {\n",
       "        text-align: right;\n",
       "    }\n",
       "</style>\n",
       "<table border=\"1\" class=\"dataframe\">\n",
       "  <thead>\n",
       "    <tr style=\"text-align: right;\">\n",
       "      <th></th>\n",
       "      <th>id</th>\n",
       "      <th>company</th>\n",
       "      <th>origin</th>\n",
       "      <th>destination</th>\n",
       "      <th>departure</th>\n",
       "      <th>arrival</th>\n",
       "      <th>duration</th>\n",
       "      <th>vehicle_type</th>\n",
       "      <th>vehicle_class</th>\n",
       "      <th>price</th>\n",
       "      <th>fare</th>\n",
       "      <th>seats</th>\n",
       "      <th>meta</th>\n",
       "      <th>insert_date</th>\n",
       "      <th>departureDate</th>\n",
       "      <th>departureDay</th>\n",
       "      <th>departureMonth</th>\n",
       "      <th>departureHour</th>\n",
       "      <th>departureWeekday</th>\n",
       "      <th>departureTime</th>\n",
       "    </tr>\n",
       "  </thead>\n",
       "  <tbody>\n",
       "    <tr>\n",
       "      <th>14951893</th>\n",
       "      <td>14951894</td>\n",
       "      <td>renfe</td>\n",
       "      <td>SEVILLA</td>\n",
       "      <td>MADRID</td>\n",
       "      <td>2019-10-06 18:45:00</td>\n",
       "      <td>2019-10-06 21:17:00</td>\n",
       "      <td>2.53</td>\n",
       "      <td>AVE</td>\n",
       "      <td>None</td>\n",
       "      <td>76.30</td>\n",
       "      <td>None</td>\n",
       "      <td>NaN</td>\n",
       "      <td>{}</td>\n",
       "      <td>2019-08-20 05:38:14</td>\n",
       "      <td>2019-10-06 18:45:00</td>\n",
       "      <td>6</td>\n",
       "      <td>10</td>\n",
       "      <td>18</td>\n",
       "      <td>6</td>\n",
       "      <td>lateNight</td>\n",
       "    </tr>\n",
       "    <tr>\n",
       "      <th>6724228</th>\n",
       "      <td>6724229</td>\n",
       "      <td>renfe</td>\n",
       "      <td>SEVILLA</td>\n",
       "      <td>MADRID</td>\n",
       "      <td>2019-05-23 15:45:00</td>\n",
       "      <td>2019-05-23 18:15:00</td>\n",
       "      <td>2.50</td>\n",
       "      <td>AVE</td>\n",
       "      <td>None</td>\n",
       "      <td>76.30</td>\n",
       "      <td>None</td>\n",
       "      <td>NaN</td>\n",
       "      <td>{}</td>\n",
       "      <td>2019-05-19 01:25:20</td>\n",
       "      <td>2019-05-23 15:45:00</td>\n",
       "      <td>23</td>\n",
       "      <td>5</td>\n",
       "      <td>15</td>\n",
       "      <td>3</td>\n",
       "      <td>midday</td>\n",
       "    </tr>\n",
       "    <tr>\n",
       "      <th>15736018</th>\n",
       "      <td>15736019</td>\n",
       "      <td>renfe</td>\n",
       "      <td>BARCELONA</td>\n",
       "      <td>MADRID</td>\n",
       "      <td>2019-11-19 18:00:00</td>\n",
       "      <td>2019-11-19 21:10:00</td>\n",
       "      <td>3.17</td>\n",
       "      <td>AVE</td>\n",
       "      <td>None</td>\n",
       "      <td>102.15</td>\n",
       "      <td>None</td>\n",
       "      <td>NaN</td>\n",
       "      <td>{}</td>\n",
       "      <td>2019-11-11 17:08:02</td>\n",
       "      <td>2019-11-19 18:00:00</td>\n",
       "      <td>19</td>\n",
       "      <td>11</td>\n",
       "      <td>18</td>\n",
       "      <td>1</td>\n",
       "      <td>lateNight</td>\n",
       "    </tr>\n",
       "    <tr>\n",
       "      <th>20343550</th>\n",
       "      <td>20343551</td>\n",
       "      <td>renfe</td>\n",
       "      <td>MADRID</td>\n",
       "      <td>HUESCA</td>\n",
       "      <td>2020-03-02 17:30:00</td>\n",
       "      <td>2020-03-02 20:07:00</td>\n",
       "      <td>2.62</td>\n",
       "      <td>AVE-MD</td>\n",
       "      <td>None</td>\n",
       "      <td>57.50</td>\n",
       "      <td>None</td>\n",
       "      <td>NaN</td>\n",
       "      <td>{\"Turista con enlace\": {\"Flexible\": {\"price\": ...</td>\n",
       "      <td>2020-02-22 23:55:31</td>\n",
       "      <td>2020-03-02 17:30:00</td>\n",
       "      <td>2</td>\n",
       "      <td>3</td>\n",
       "      <td>17</td>\n",
       "      <td>0</td>\n",
       "      <td>afternoon</td>\n",
       "    </tr>\n",
       "    <tr>\n",
       "      <th>1466610</th>\n",
       "      <td>1466611</td>\n",
       "      <td>renfe</td>\n",
       "      <td>MADRID</td>\n",
       "      <td>VALENCIA</td>\n",
       "      <td>2019-04-29 11:10:00</td>\n",
       "      <td>2019-04-29 13:25:00</td>\n",
       "      <td>2.25</td>\n",
       "      <td>INTERCITY</td>\n",
       "      <td>None</td>\n",
       "      <td>43.75</td>\n",
       "      <td>None</td>\n",
       "      <td>NaN</td>\n",
       "      <td>{}</td>\n",
       "      <td>2019-04-17 08:20:00</td>\n",
       "      <td>2019-04-29 11:10:00</td>\n",
       "      <td>29</td>\n",
       "      <td>4</td>\n",
       "      <td>11</td>\n",
       "      <td>0</td>\n",
       "      <td>midmorning</td>\n",
       "    </tr>\n",
       "  </tbody>\n",
       "</table>\n",
       "</div>"
      ],
      "text/plain": [
       "                id company     origin destination            departure  \\\n",
       "14951893  14951894   renfe    SEVILLA      MADRID  2019-10-06 18:45:00   \n",
       "6724228    6724229   renfe    SEVILLA      MADRID  2019-05-23 15:45:00   \n",
       "15736018  15736019   renfe  BARCELONA      MADRID  2019-11-19 18:00:00   \n",
       "20343550  20343551   renfe     MADRID      HUESCA  2020-03-02 17:30:00   \n",
       "1466610    1466611   renfe     MADRID    VALENCIA  2019-04-29 11:10:00   \n",
       "\n",
       "                      arrival  duration vehicle_type vehicle_class   price  \\\n",
       "14951893  2019-10-06 21:17:00      2.53          AVE          None   76.30   \n",
       "6724228   2019-05-23 18:15:00      2.50          AVE          None   76.30   \n",
       "15736018  2019-11-19 21:10:00      3.17          AVE          None  102.15   \n",
       "20343550  2020-03-02 20:07:00      2.62       AVE-MD          None   57.50   \n",
       "1466610   2019-04-29 13:25:00      2.25    INTERCITY          None   43.75   \n",
       "\n",
       "          fare  seats                                               meta  \\\n",
       "14951893  None    NaN                                                 {}   \n",
       "6724228   None    NaN                                                 {}   \n",
       "15736018  None    NaN                                                 {}   \n",
       "20343550  None    NaN  {\"Turista con enlace\": {\"Flexible\": {\"price\": ...   \n",
       "1466610   None    NaN                                                 {}   \n",
       "\n",
       "                  insert_date       departureDate  departureDay  \\\n",
       "14951893  2019-08-20 05:38:14 2019-10-06 18:45:00             6   \n",
       "6724228   2019-05-19 01:25:20 2019-05-23 15:45:00            23   \n",
       "15736018  2019-11-11 17:08:02 2019-11-19 18:00:00            19   \n",
       "20343550  2020-02-22 23:55:31 2020-03-02 17:30:00             2   \n",
       "1466610   2019-04-17 08:20:00 2019-04-29 11:10:00            29   \n",
       "\n",
       "          departureMonth  departureHour  departureWeekday departureTime  \n",
       "14951893              10             18                 6     lateNight  \n",
       "6724228                5             15                 3        midday  \n",
       "15736018              11             18                 1     lateNight  \n",
       "20343550               3             17                 0     afternoon  \n",
       "1466610                4             11                 0    midmorning  "
      ]
     },
     "execution_count": 19,
     "metadata": {},
     "output_type": "execute_result"
    }
   ],
   "source": [
    "df.head()"
   ]
  },
  {
   "cell_type": "markdown",
   "metadata": {},
   "source": [
    "# Feature engineering"
   ]
  },
  {
   "cell_type": "markdown",
   "metadata": {},
   "source": [
    "Extrac: dat, day of the week, month, hour from departure time"
   ]
  },
  {
   "cell_type": "code",
   "execution_count": 10,
   "metadata": {},
   "outputs": [
    {
     "name": "stderr",
     "output_type": "stream",
     "text": [
      "100%|██████████| 500000/500000 [34:08<00:00, 244.09it/s]\n"
     ]
    }
   ],
   "source": [
    "def processDate(x):\n",
    "    x['departureDate']=datetime.datetime.strptime(x[\"departure\"], '%Y-%m-%d %H:%M:%S')\n",
    "    x['departureDay']=x[\"departureDate\"].day\n",
    "    x['departureMonth']=x[\"departureDate\"].month\n",
    "    x['departureHour']=x[\"departureDate\"].hour\n",
    "    x['departureWeekday']=x[\"departureDate\"].weekday()\n",
    "    return x\n",
    "\n",
    "df=df.progress_apply(processDate, axis=1)\n",
    "\n",
    "#df['departureDate']=df.progress_apply(lambda x: datetime.datetime.strptime(x[\"departure\"], '%Y-%m-%d %H:%M:%S'),axis=1)\n",
    "#df['departureDay']=df.progress_apply(lambda x: x[\"departureDate\"].day,axis=1)\n",
    "#df['departureMonth']=df.progress_apply(lambda x: x[\"departureDate\"].month,axis=1)\n",
    "#df['departureHour']=df.progress_apply(lambda x: x[\"departureDate\"].hour,axis=1)\n",
    "#df['departureWeekday']=df.progress_apply(lambda x: x[\"departureDate\"].weekday(),axis=1)"
   ]
  },
  {
   "cell_type": "code",
   "execution_count": 11,
   "metadata": {},
   "outputs": [
    {
     "data": {
      "text/plain": [
       "(500000, 19)"
      ]
     },
     "execution_count": 11,
     "metadata": {},
     "output_type": "execute_result"
    }
   ],
   "source": [
    "df.shape"
   ]
  },
  {
   "cell_type": "markdown",
   "metadata": {},
   "source": [
    "recode departure time"
   ]
  },
  {
   "cell_type": "code",
   "execution_count": 12,
   "metadata": {},
   "outputs": [],
   "source": [
    "df['departureTime']=\"\"\n",
    "df.loc[(df['departureHour']<6),'departureTime' ] = \"earlyMorning\"\n",
    "df.loc[((df['departureHour']>=6)&(df['departureHour']<9)),'departureTime' ] = \"morning\"\n",
    "df.loc[((df['departureHour']>=9)&(df['departureHour']<12)),'departureTime' ] = \"midmorning\"\n",
    "df.loc[((df['departureHour']>=12)&(df['departureHour']<16)),'departureTime' ] = \"midday\"\n",
    "df.loc[((df['departureHour']>=16)&(df['departureHour']<18)),'departureTime' ] = \"afternoon\"\n",
    "df.loc[((df['departureHour']>=18)&(df['departureHour']<21)),'departureTime' ] = \"lateNight\"\n",
    "df.loc[(df['departureHour']>=21),'departureTime' ] = \"night\"\n"
   ]
  },
  {
   "cell_type": "markdown",
   "metadata": {},
   "source": [
    "# Vars "
   ]
  },
  {
   "cell_type": "code",
   "execution_count": 13,
   "metadata": {},
   "outputs": [],
   "source": [
    "categoricalVar=['origin', 'destination','vehicle_type','vehicle_class', 'fare','departureWeekday', 'departureTime']\n",
    "target='price'\n",
    "continueVar=['duration','departureDay','departureMonth']\n"
   ]
  },
  {
   "cell_type": "markdown",
   "metadata": {},
   "source": [
    "# Filter unknown obs"
   ]
  },
  {
   "cell_type": "code",
   "execution_count": 14,
   "metadata": {},
   "outputs": [],
   "source": [
    "df['vehicle_class']=df['vehicle_class'].fillna(\"unknow\", inplace=True)\n",
    "df['fare']=df['fare'].fillna(\"unknow\", inplace=True)"
   ]
  },
  {
   "cell_type": "markdown",
   "metadata": {},
   "source": [
    "# Create dummys variables"
   ]
  },
  {
   "cell_type": "code",
   "execution_count": 20,
   "metadata": {},
   "outputs": [
    {
     "name": "stdout",
     "output_type": "stream",
     "text": [
      "(5000, 3)\n",
      "(5000, 100)\n",
      "(5000,)\n"
     ]
    }
   ],
   "source": [
    "X=df[continueVar]\n",
    "y=df[target]\n",
    "print(X.shape)\n",
    "for i in categoricalVar:\n",
    "    X=pd.concat([X, pd.get_dummies(pd.Series(df[i]), drop_first=True)], axis=1)\n",
    "print(X.shape)\n",
    "print(y.shape)\n"
   ]
  },
  {
   "cell_type": "markdown",
   "metadata": {},
   "source": [
    "# Save clean data"
   ]
  },
  {
   "cell_type": "code",
   "execution_count": 21,
   "metadata": {},
   "outputs": [],
   "source": [
    "data=X.copy()\n",
    "data['y']=y\n",
    "\n",
    "data.to_csv('dataLite.csv',sep=\";\",index=False)"
   ]
  },
  {
   "cell_type": "markdown",
   "metadata": {},
   "source": [
    "# Model"
   ]
  },
  {
   "cell_type": "markdown",
   "metadata": {},
   "source": [
    "## Split data"
   ]
  },
  {
   "cell_type": "code",
   "execution_count": null,
   "metadata": {},
   "outputs": [],
   "source": [
    "from sklearn.model_selection import train_test_split\n",
    "X_train, X_valid, y_train, y_valid = train_test_split(X, y, test_size=0.33, random_state=42)"
   ]
  },
  {
   "cell_type": "markdown",
   "metadata": {},
   "source": [
    "## Train"
   ]
  },
  {
   "cell_type": "code",
   "execution_count": null,
   "metadata": {},
   "outputs": [],
   "source": [
    "from sklearn.ensemble import RandomForestRegressor\n",
    "clf = RandomForestRegressor(max_depth=200, random_state=11)\n",
    "clf.fit(X_train, y_train)"
   ]
  },
  {
   "cell_type": "markdown",
   "metadata": {},
   "source": [
    "## Predict"
   ]
  },
  {
   "cell_type": "code",
   "execution_count": null,
   "metadata": {},
   "outputs": [],
   "source": [
    "yhat_train=clf.predict(X_train)\n",
    "yhat_valid=clf.predict(X_valid)"
   ]
  },
  {
   "cell_type": "code",
   "execution_count": null,
   "metadata": {},
   "outputs": [],
   "source": [
    "from sklearn.metrics import mean_absolute_error\n",
    "from sklearn.metrics import mean_squared_error\n",
    "from sklearn.metrics import mean_squared_error\n",
    "from math import sqrt\n",
    "from sklearn.metrics import explained_variance_score"
   ]
  },
  {
   "cell_type": "markdown",
   "metadata": {},
   "source": [
    "## Evaluate"
   ]
  },
  {
   "cell_type": "code",
   "execution_count": null,
   "metadata": {},
   "outputs": [],
   "source": [
    "print(f\"MAE train: {mean_absolute_error(y_train, yhat_train)}\")\n",
    "print(f\"MAE valid: {mean_absolute_error(y_valid, yhat_valid)}\")\n",
    "print(f\"MSE train: {mean_squared_error(y_train, yhat_train)}\")\n",
    "print(f\"MSE valid: {mean_squared_error(y_valid, yhat_valid)}\")\n",
    "print(f\"RMSE train: {sqrt(mean_squared_error(y_train, yhat_train))}\")\n",
    "print(f\"RMSE valid: {sqrt(mean_squared_error(y_valid, yhat_valid))}\")\n",
    "print(f\"explained_variance train: {explained_variance_score(y_train, yhat_train, multioutput='uniform_average')}\")\n",
    "print(f\"explained_variance valid: {explained_variance_score(y_valid, yhat_valid, multioutput='uniform_average')}\")\n",
    "\n",
    "\n"
   ]
  },
  {
   "cell_type": "code",
   "execution_count": null,
   "metadata": {},
   "outputs": [],
   "source": []
  },
  {
   "cell_type": "code",
   "execution_count": null,
   "metadata": {},
   "outputs": [],
   "source": []
  },
  {
   "cell_type": "code",
   "execution_count": null,
   "metadata": {},
   "outputs": [],
   "source": []
  },
  {
   "cell_type": "code",
   "execution_count": null,
   "metadata": {},
   "outputs": [],
   "source": []
  }
 ],
 "metadata": {
  "kernelspec": {
   "display_name": "Python 3",
   "language": "python",
   "name": "python3"
  },
  "language_info": {
   "codemirror_mode": {
    "name": "ipython",
    "version": 3
   },
   "file_extension": ".py",
   "mimetype": "text/x-python",
   "name": "python",
   "nbconvert_exporter": "python",
   "pygments_lexer": "ipython3",
   "version": "3.6.9"
  },
  "nteract": {
   "version": "nteract-front-end@1.0.0"
  }
 },
 "nbformat": 4,
 "nbformat_minor": 4
}
